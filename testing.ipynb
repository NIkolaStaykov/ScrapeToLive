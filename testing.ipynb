{
 "cells": [
  {
   "metadata": {
    "ExecuteTime": {
     "end_time": "2024-06-21T23:18:24.529879Z",
     "start_time": "2024-06-21T23:18:24.202741Z"
    }
   },
   "cell_type": "code",
   "source": [
    "import random\n",
    "from selenium import webdriver\n",
    "from selenium.webdriver.chrome.options import Options\n",
    "from selenium.webdriver.common.by import By\n",
    "from selenium.webdriver.remote.webelement import WebElement\n",
    "from selenium.webdriver.support.ui import WebDriverWait\n",
    "from selenium.webdriver.support import expected_conditions as EC\n",
    "from time import sleep\n",
    "from datetime import datetime as time\n",
    "import json\n",
    "import re\n",
    "\n",
    "from playsound import playsound"
   ],
   "id": "9eb8d3804e42d75c",
   "outputs": [],
   "execution_count": 1
  },
  {
   "metadata": {
    "ExecuteTime": {
     "end_time": "2024-06-22T13:35:11.924236Z",
     "start_time": "2024-06-22T13:35:08.894497Z"
    }
   },
   "cell_type": "code",
   "source": [
    "from ScraperBase import beep\n",
    "beep()"
   ],
   "id": "f7e0f4acb7418aa9",
   "outputs": [],
   "execution_count": 41
  },
  {
   "metadata": {
    "ExecuteTime": {
     "end_time": "2024-06-22T14:37:10.651451Z",
     "start_time": "2024-06-22T14:37:04.718804Z"
    }
   },
   "cell_type": "code",
   "source": [
    "driver = webdriver.Chrome()\n",
    "driver.get(\"https://www.google.com/\")"
   ],
   "id": "309357728ac8144c",
   "outputs": [],
   "execution_count": 42
  },
  {
   "metadata": {
    "ExecuteTime": {
     "end_time": "2024-06-22T14:37:34.184737Z",
     "start_time": "2024-06-22T14:37:30.667963Z"
    }
   },
   "cell_type": "code",
   "source": "driver.get(\"https://www.youtube.com/\")",
   "id": "7bed734366f7eaef",
   "outputs": [],
   "execution_count": 43
  },
  {
   "metadata": {},
   "cell_type": "code",
   "outputs": [],
   "execution_count": null,
   "source": "",
   "id": "d7621088ec388a82"
  }
 ],
 "metadata": {
  "kernelspec": {
   "display_name": "Python 3",
   "language": "python",
   "name": "python3"
  },
  "language_info": {
   "codemirror_mode": {
    "name": "ipython",
    "version": 2
   },
   "file_extension": ".py",
   "mimetype": "text/x-python",
   "name": "python",
   "nbconvert_exporter": "python",
   "pygments_lexer": "ipython2",
   "version": "2.7.6"
  }
 },
 "nbformat": 4,
 "nbformat_minor": 5
}
