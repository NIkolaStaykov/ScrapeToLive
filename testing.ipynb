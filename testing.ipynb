{
 "cells": [
  {
   "metadata": {
    "ExecuteTime": {
     "end_time": "2024-06-21T23:18:24.529879Z",
     "start_time": "2024-06-21T23:18:24.202741Z"
    }
   },
   "cell_type": "code",
   "source": [
    "import random\n",
    "from selenium import webdriver\n",
    "from selenium.webdriver.chrome.options import Options\n",
    "from selenium.webdriver.common.by import By\n",
    "from selenium.webdriver.remote.webelement import WebElement\n",
    "from selenium.webdriver.support.ui import WebDriverWait\n",
    "from selenium.webdriver.support import expected_conditions as EC\n",
    "from time import sleep\n",
    "from datetime import datetime as time\n",
    "import json\n",
    "import re\n",
    "\n",
    "from playsound import playsound"
   ],
   "id": "9eb8d3804e42d75c",
   "outputs": [],
   "execution_count": 1
  },
  {
   "metadata": {
    "ExecuteTime": {
     "end_time": "2024-06-21T23:44:12.388992Z",
     "start_time": "2024-06-21T23:43:54.067564Z"
    }
   },
   "cell_type": "code",
   "source": [
    "timeout = 2\n",
    "\n",
    "driver = webdriver.Chrome()\n",
    "driver.get('https://www.wgzimmer.ch/wgzimmer/search/mate.html')"
   ],
   "id": "c1810de6abb06658",
   "outputs": [],
   "execution_count": 15
  },
  {
   "metadata": {
    "ExecuteTime": {
     "end_time": "2024-06-21T23:44:12.898716Z",
     "start_time": "2024-06-21T23:44:12.393994Z"
    }
   },
   "cell_type": "code",
   "source": [
    "WebDriverWait(driver, timeout).until(EC.element_to_be_clickable((By.XPATH, '//button[p[contains(., \"Manage options\")]]')))\n",
    "driver.find_element(By.XPATH, '//button[p[contains(., \"Manage options\")]]').click()\n",
    "\n",
    "WebDriverWait(driver, timeout).until(EC.element_to_be_clickable((By.XPATH, '//button[p[contains(., \"Confirm choices\")]]')))\n",
    "driver.find_element(By.XPATH, '//button[p[contains(., \"Confirm choices\")]]').click()"
   ],
   "id": "8416dae00b24b280",
   "outputs": [],
   "execution_count": 16
  },
  {
   "metadata": {
    "ExecuteTime": {
     "end_time": "2024-06-22T00:09:01.875729Z",
     "start_time": "2024-06-22T00:09:01.471660Z"
    }
   },
   "cell_type": "code",
   "source": [
    "driver.find_element(By.XPATH, '//select[@name=\"priceMin\"]').send_keys('500')\n",
    "driver.find_element(By.XPATH, '//select[@name=\"priceMax\"]').send_keys('800')\n",
    "driver.find_element(By.XPATH, '//select[@name=\"wgState\"]').send_keys('Zürich (Stadt)')"
   ],
   "id": "f873c5da149391f4",
   "outputs": [],
   "execution_count": 24
  },
  {
   "metadata": {
    "ExecuteTime": {
     "end_time": "2024-06-22T00:09:11.136793Z",
     "start_time": "2024-06-22T00:09:11.000795Z"
    }
   },
   "cell_type": "code",
   "source": "driver.find_element(By.XPATH, '//input[@value=\"Suchen\"]').click()",
   "id": "70a2cf5434ca2322",
   "outputs": [],
   "execution_count": 25
  },
  {
   "metadata": {
    "ExecuteTime": {
     "end_time": "2024-06-22T00:12:34.776061Z",
     "start_time": "2024-06-22T00:12:34.696041Z"
    }
   },
   "cell_type": "code",
   "source": [
    "WebDriverWait(driver, timeout).until(EC.visibility_of_element_located(\n",
    "            (By.CLASS_NAME, \"search-mate-entry\")))\n",
    "unfiltered_new_offers = driver.find_elements(By.XPATH,\n",
    "                                          '//li[contains(@class, \"search-mate-entry\")]')\n"
   ],
   "id": "355c180ec0317190",
   "outputs": [],
   "execution_count": 26
  },
  {
   "metadata": {
    "ExecuteTime": {
     "end_time": "2024-06-22T00:12:36.166621Z",
     "start_time": "2024-06-22T00:12:36.147623Z"
    }
   },
   "cell_type": "code",
   "source": "len(unfiltered_new_offers)",
   "id": "84890b86e3e942bb",
   "outputs": [
    {
     "data": {
      "text/plain": [
       "24"
      ]
     },
     "execution_count": 27,
     "metadata": {},
     "output_type": "execute_result"
    }
   ],
   "execution_count": 27
  },
  {
   "metadata": {
    "ExecuteTime": {
     "end_time": "2024-06-22T00:22:31.240128Z",
     "start_time": "2024-06-22T00:22:29.980168Z"
    }
   },
   "cell_type": "code",
   "source": [
    "for offer in unfiltered_new_offers:\n",
    "    date = offer.find_element(By.XPATH, './/div[contains(@class, \"create-date\")]').text\n",
    "    print(date)\n",
    "    if date == '21.6.2024':\n",
    "        print(date)\n",
    "        print(offer.find_element(By.XPATH, './/a').get_attribute('href'))"
   ],
   "id": "8bc9c3a5379330c0",
   "outputs": [
    {
     "name": "stdout",
     "output_type": "stream",
     "text": [
      "21.6.2024\n",
      "21.6.2024\n",
      "https://www.wgzimmer.ch/wglink/de/b7949d92-551b-4b6d-a975-a2a3c24dd61c/zurich-stadt/15-7-2024-510-zurich-stadt.html\n",
      "21.6.2024\n",
      "21.6.2024\n",
      "https://www.wgzimmer.ch/wglink/de/600044cf-c089-475a-b005-af21ba501270/zurich-stadt/16-7-2024-31-08-2024-521-zurich-stadt.html\n",
      "21.6.2024\n",
      "21.6.2024\n",
      "https://www.wgzimmer.ch/wglink/de/9d134088-d255-4c69-8b16-7aefc919e70c/zurich-stadt/15-6-2024-31-von-august-738-zurich-stadt.html\n",
      "21.6.2024\n",
      "21.6.2024\n",
      "https://www.wgzimmer.ch/wglink/de/3a95dff6-425d-40fc-b6d8-0d3aa233bf8c/zurich-stadt/1-9-2024-31-1-2025-750-zurich-stadt.html\n",
      "21.6.2024\n",
      "21.6.2024\n",
      "https://www.wgzimmer.ch/wglink/de/93669dfe-9e81-418b-971d-f6b92506499a/zurich-stadt/1-8-2024-18-08-2024-600-zurich-stadt.html\n",
      "20.6.2024\n",
      "20.6.2024\n",
      "20.6.2024\n",
      "20.6.2024\n",
      "19.6.2024\n",
      "19.6.2024\n",
      "19.6.2024\n",
      "19.6.2024\n",
      "19.6.2024\n",
      "19.6.2024\n",
      "19.6.2024\n",
      "19.6.2024\n",
      "18.6.2024\n",
      "18.6.2024\n",
      "18.6.2024\n",
      "17.6.2024\n",
      "17.6.2024\n",
      "17.6.2024\n",
      "17.6.2024\n"
     ]
    }
   ],
   "execution_count": 35
  },
  {
   "metadata": {
    "ExecuteTime": {
     "end_time": "2024-06-22T00:24:56.001969Z",
     "start_time": "2024-06-22T00:24:55.983961Z"
    }
   },
   "cell_type": "code",
   "source": "time.now().strftime('%d.%#m.%Y')",
   "id": "cdf1317175878327",
   "outputs": [
    {
     "data": {
      "text/plain": [
       "'22.6.2024'"
      ]
     },
     "execution_count": 37,
     "metadata": {},
     "output_type": "execute_result"
    }
   ],
   "execution_count": 37
  },
  {
   "metadata": {
    "ExecuteTime": {
     "end_time": "2024-06-22T00:26:16.233033Z",
     "start_time": "2024-06-22T00:26:16.189404Z"
    }
   },
   "cell_type": "code",
   "source": "hash(unfiltered_new_offers[0].text)",
   "id": "74dd71f1c99976c5",
   "outputs": [
    {
     "data": {
      "text/plain": [
       "-8873377825215164536"
      ]
     },
     "execution_count": 40,
     "metadata": {},
     "output_type": "execute_result"
    }
   ],
   "execution_count": 40
  },
  {
   "metadata": {},
   "cell_type": "code",
   "outputs": [],
   "execution_count": null,
   "source": "",
   "id": "894e4ee1358f98e7"
  }
 ],
 "metadata": {
  "kernelspec": {
   "display_name": "Python 3",
   "language": "python",
   "name": "python3"
  },
  "language_info": {
   "codemirror_mode": {
    "name": "ipython",
    "version": 2
   },
   "file_extension": ".py",
   "mimetype": "text/x-python",
   "name": "python",
   "nbconvert_exporter": "python",
   "pygments_lexer": "ipython2",
   "version": "2.7.6"
  }
 },
 "nbformat": 4,
 "nbformat_minor": 5
}
